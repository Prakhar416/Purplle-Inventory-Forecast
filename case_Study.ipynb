{
 "cells": [
  {
   "cell_type": "code",
   "execution_count": null,
   "id": "91a405e2",
   "metadata": {},
   "outputs": [],
   "source": [
    "import pandas as pd\n",
    "import numpy as np"
   ]
  },
  {
   "cell_type": "code",
   "execution_count": null,
   "id": "24d43087",
   "metadata": {},
   "outputs": [],
   "source": [
    "ts_df = pd.read_csv('data/processed_data.csv')"
   ]
  },
  {
   "cell_type": "code",
   "execution_count": null,
   "id": "9c4cb26a",
   "metadata": {},
   "outputs": [],
   "source": [
    "imputation_df = ts_df.groupby(['ean_code', 'order_date']).agg({'quantity': 'sum'}).reset_index()"
   ]
  },
  {
   "cell_type": "code",
   "execution_count": null,
   "id": "a5c9da93",
   "metadata": {},
   "outputs": [],
   "source": [
    "imputation_df.head()"
   ]
  },
  {
   "cell_type": "code",
   "execution_count": null,
   "id": "2809945f",
   "metadata": {},
   "outputs": [],
   "source": [
    "def calculate_annual_growth(imputation_df, ean_codes, year_from, year_to):\n",
    "    growth_rates = {}\n",
    "    for ean in ean_codes:\n",
    "        df_ean = imputation_df[imputation_df['ean_code'] == ean].copy()\n",
    "        df_ean['year'] = df_ean['order_date'].dt.year\n",
    "        \n",
    "        mean_from = df_ean[df_ean['year'] == year_from]['quantity'].mean()\n",
    "        mean_to = df_ean[df_ean['year'] == year_to]['quantity'].mean()\n",
    "        \n",
    "        if mean_from and pd.notna(mean_from) and mean_to and pd.notna(mean_to):\n",
    "            growth = (mean_to / mean_from) - 1\n",
    "        else:\n",
    "            growth = 0\n",
    "        growth_rates[ean] = growth\n",
    "    return growth_rates"
   ]
  },
  {
   "cell_type": "code",
   "execution_count": null,
   "id": "16d2e39d",
   "metadata": {},
   "outputs": [],
   "source": [
    "def impute_last_3_months_2022(imputation_df, ean_codes):\n",
    "    results = []\n",
    "    for ean in ean_codes:\n",
    "        df_ean = imputation_df[imputation_df['ean_code'] == ean].copy()\n",
    "        df_ean['year'] = df_ean['order_date'].dt.year\n",
    "        df_ean['month'] = df_ean['order_date'].dt.month\n",
    "        \n",
    "        jan_sep_2021 = df_ean[(df_ean['year'] == 2021) & (df_ean['month'] <= 9)]\n",
    "        jan_sep_2022 = df_ean[(df_ean['year'] == 2022) & (df_ean['month'] <= 9)]\n",
    "        \n",
    "        mean_2021 = jan_sep_2021['quantity'].mean()\n",
    "        mean_2022 = jan_sep_2022['quantity'].mean()\n",
    "        growth_2022 = ((mean_2022 / mean_2021) - 1) if mean_2021 else 0\n",
    "        \n",
    "        oct_dec_2021 = df_ean[(df_ean['year'] == 2021) & (df_ean['month'].isin([10,11,12]))]\n",
    "        \n",
    "        for _, row in oct_dec_2021.iterrows():\n",
    "            new_date = row['order_date'] + pd.DateOffset(years=1)\n",
    "            imputed_qty = row['quantity'] * (1 + growth_2022)\n",
    "            results.append({'ean_code': ean, 'order_date': new_date, 'quantity': imputed_qty})\n",
    "    return pd.DataFrame(results)"
   ]
  },
  {
   "cell_type": "code",
   "execution_count": null,
   "id": "d505f8e1",
   "metadata": {},
   "outputs": [],
   "source": [
    "def impute_full_year(imputation_df, ean_codes, year_to_impute, prev_year_data, growth_rates):\n",
    "    results = []\n",
    "    forecast_dates = pd.date_range(start=f\"{year_to_impute}-01-01\", end=f\"{year_to_impute}-12-31\")\n",
    "    \n",
    "    for ean in ean_codes:\n",
    "        growth = growth_rates.get(ean, 0)\n",
    "        prev_data_ean = prev_year_data[prev_year_data['ean_code'] == ean]\n",
    "        \n",
    "        for d in forecast_dates:\n",
    "            ref_date = d - pd.DateOffset(years=1)\n",
    "            ref_row = prev_data_ean[prev_data_ean['order_date'] == ref_date]\n",
    "            \n",
    "            if not ref_row.empty:\n",
    "                qty = ref_row.iloc[0]['quantity']\n",
    "                imputed_qty = qty * (1 + growth)\n",
    "            else:\n",
    "                imputed_qty = 0\n",
    "            results.append({'ean_code': ean, 'order_date': d, 'quantity': imputed_qty})\n",
    "            \n",
    "    return pd.DataFrame(results)"
   ]
  },
  {
   "cell_type": "code",
   "execution_count": null,
   "id": "26e29c9f",
   "metadata": {},
   "outputs": [],
   "source": [
    "ean_codes = top_products\n",
    "oct_dec_2022_imputed = impute_last_3_months_2022(imputation_df, ean_codes)"
   ]
  },
  {
   "cell_type": "code",
   "execution_count": null,
   "id": "93ee08dc",
   "metadata": {},
   "outputs": [],
   "source": [
    "prev_year_2022 = pd.concat([\n",
    "    imputation_df[(imputation_df['order_date'].dt.year == 2022) & (imputation_df['ean_code'].isin(ean_codes))],\n",
    "    oct_dec_2022_imputed\n",
    "], ignore_index=True)"
   ]
  },
  {
   "cell_type": "code",
   "execution_count": null,
   "id": "6b405c1b",
   "metadata": {},
   "outputs": [],
   "source": [
    "growth_2021_2022 = calculate_annual_growth(imputation_df, ean_codes, 2021, 2022)\n",
    "imputed_2023 = impute_full_year(imputation_df, ean_codes, 2023, prev_year_2022, growth_2021_2022)\n",
    "combined_for_growth = pd.concat([imputation_df, imputed_2023], ignore_index=True)\n",
    "growth_2022_2023 = calculate_annual_growth(combined_for_growth, ean_codes, 2022, 2023)\n",
    "# growth_2022_2023['6902395722403'] = 0.52\n",
    "imputed_2024 = impute_full_year(imputation_df, ean_codes, 2024, imputed_2023, growth_2022_2023)"
   ]
  },
  {
   "cell_type": "code",
   "execution_count": null,
   "id": "bca69f7a",
   "metadata": {},
   "outputs": [],
   "source": [
    "for key, value in growth_2021_2022.items():\n",
    "    print(key, value)"
   ]
  },
  {
   "cell_type": "code",
   "execution_count": null,
   "id": "bfe7989a",
   "metadata": {},
   "outputs": [],
   "source": [
    "for key, value in growth_2022_2023.items():\n",
    "    print(key, value)"
   ]
  },
  {
   "cell_type": "code",
   "execution_count": null,
   "id": "0e1267d1",
   "metadata": {},
   "outputs": [],
   "source": [
    "print(oct_dec_2022_imputed.head())\n",
    "print(imputed_2023.head())\n",
    "print(imputed_2024.tail())"
   ]
  },
  {
   "cell_type": "code",
   "execution_count": null,
   "id": "64ec6e73",
   "metadata": {},
   "outputs": [],
   "source": [
    "all_actuals_df = pd.concat([oct_dec_2022_imputed, imputed_2023, imputed_2024], ignore_index=True)\n",
    "forecast_df['order_date'] = pd.to_datetime(forecast_df['order_date'])\n",
    "forecast_df_renamed = forecast_df.rename(columns={'predicted_quantity': 'quantity'})"
   ]
  },
  {
   "cell_type": "code",
   "execution_count": null,
   "id": "a6031459",
   "metadata": {},
   "outputs": [],
   "source": [
    "merged_df = pd.merge(\n",
    "    all_actuals_df,\n",
    "    forecast_df_renamed[['ean_code', 'order_date', 'quantity']],\n",
    "    on=['ean_code', 'order_date'],\n",
    "    how='inner',\n",
    "    suffixes=('_actual', '_forecast')\n",
    ")\n",
    "merged_df['quantity_actual'] = merged_df['quantity_actual'].astype(int)\n",
    "merged_df['quantity_forecast'] = merged_df['quantity_forecast'].astype(int)\n",
    "merged_df = merged_df.sort_values(by=['ean_code', 'order_date']).reset_index(drop=True)"
   ]
  },
  {
   "cell_type": "code",
   "execution_count": null,
   "id": "36ca17c1",
   "metadata": {},
   "outputs": [],
   "source": [
    "import matplotlib.pyplot as plt\n",
    "import seaborn as sns\n",
    "\n",
    "sns.set_style('whitegrid')\n",
    "\n",
    "products_to_plot = top_products  # Use your top_products list\n",
    "\n",
    "for product in products_to_plot:\n",
    "    product_data = merged_df[merged_df['ean_code'] == product]\n",
    "    plt.figure(figsize=(12, 5))\n",
    "    \n",
    "    plt.plot(product_data['order_date'], product_data['quantity_actual'], label='Actual', marker='o')\n",
    "    plt.plot(product_data['order_date'], product_data['quantity_forecast'], label='Forecast', marker='x')\n",
    "    \n",
    "    plt.title(f'Actual vs Forecasted Quantity for EAN: {product}')\n",
    "    plt.xlabel('Date')\n",
    "    plt.ylabel('Quantity')\n",
    "    plt.legend()\n",
    "    plt.tight_layout()\n",
    "    plt.show()"
   ]
  },
  {
   "cell_type": "code",
   "execution_count": null,
   "id": "35e029f5",
   "metadata": {},
   "outputs": [],
   "source": [
    "merged_df.head(50)"
   ]
  },
  {
   "cell_type": "code",
   "execution_count": null,
   "id": "e2787c31",
   "metadata": {},
   "outputs": [],
   "source": [
    "def smooth_group(group):\n",
    "        rolled = group['quantity_actual'].rolling(window=5, min_periods=1).mean()\n",
    "        return rolled\n",
    "\n",
    "merged_df['quantity_actual_smoothed'] = merged_df.groupby('ean_code', group_keys=False).apply(smooth_group)"
   ]
  },
  {
   "cell_type": "code",
   "execution_count": null,
   "id": "72c693ba",
   "metadata": {},
   "outputs": [],
   "source": [
    "merged_df.head(825)"
   ]
  },
  {
   "cell_type": "code",
   "execution_count": null,
   "id": "bcf6a5c6",
   "metadata": {},
   "outputs": [],
   "source": [
    "mae = mean_absolute_error(merged_df['quantity_actual'], merged_df['quantity_forecast'])\n",
    "mse = mean_squared_error(merged_df['quantity_actual'], merged_df['quantity_forecast'])\n",
    "rmse = np.sqrt(mse)\n",
    "r2 = r2_score(merged_df['quantity_actual'], merged_df['quantity_forecast'])\n",
    "\n",
    "print(f\"Accuracy of combined imputed actuals vs forecast:\")\n",
    "print(f\"MAE: {mae:.3f}\")\n",
    "print(f\"RMSE: {rmse:.3f}\")\n",
    "print(f\"R²: {r2:.3f}\")"
   ]
  },
  {
   "cell_type": "code",
   "execution_count": null,
   "id": "8a119285",
   "metadata": {},
   "outputs": [],
   "source": [
    "# Combine the earlier data (train_data) and forecasted data (forecast_df)\n",
    "combined_df = pd.concat([\n",
    "    agg_df.reset_index()[['ean_code', 'quantity', 'order_date']],\n",
    "    forecast_df.rename(columns={'predicted_quantity': 'quantity'})[['ean_code', 'quantity', 'order_date']]\n",
    "], ignore_index=True)\n",
    "\n",
    "combined_df = combined_df[['ean_code', 'order_date', 'quantity']].sort_values(by=['ean_code', 'order_date'])\n",
    "combined_df = combined_df.reset_index(drop=True)\n",
    "combined_df.head(2011)\n"
   ]
  },
  {
   "cell_type": "code",
   "execution_count": null,
   "id": "cc3468e8",
   "metadata": {},
   "outputs": [],
   "source": [
    "combined_df.to_csv('5year_data.csv', index=False)"
   ]
  },
  {
   "cell_type": "code",
   "execution_count": null,
   "id": "f5b4caa1",
   "metadata": {},
   "outputs": [
    {
     "data": {
      "text/html": [
       "<div>\n",
       "<style scoped>\n",
       "    .dataframe tbody tr th:only-of-type {\n",
       "        vertical-align: middle;\n",
       "    }\n",
       "\n",
       "    .dataframe tbody tr th {\n",
       "        vertical-align: top;\n",
       "    }\n",
       "\n",
       "    .dataframe thead th {\n",
       "        text-align: right;\n",
       "    }\n",
       "</style>\n",
       "<table border=\"1\" class=\"dataframe\">\n",
       "  <thead>\n",
       "    <tr style=\"text-align: right;\">\n",
       "      <th></th>\n",
       "      <th>index</th>\n",
       "      <th>ean_code</th>\n",
       "      <th>quantity</th>\n",
       "      <th>ean_code_encoded</th>\n",
       "    </tr>\n",
       "    <tr>\n",
       "      <th>order_date</th>\n",
       "      <th></th>\n",
       "      <th></th>\n",
       "      <th></th>\n",
       "      <th></th>\n",
       "    </tr>\n",
       "  </thead>\n",
       "  <tbody>\n",
       "    <tr>\n",
       "      <th>2022-10-01</th>\n",
       "      <td>0</td>\n",
       "      <td>8904362500005</td>\n",
       "      <td>435</td>\n",
       "      <td>4</td>\n",
       "    </tr>\n",
       "    <tr>\n",
       "      <th>2022-10-02</th>\n",
       "      <td>1</td>\n",
       "      <td>8904362500005</td>\n",
       "      <td>432</td>\n",
       "      <td>4</td>\n",
       "    </tr>\n",
       "    <tr>\n",
       "      <th>2022-10-03</th>\n",
       "      <td>2</td>\n",
       "      <td>8904362500005</td>\n",
       "      <td>458</td>\n",
       "      <td>4</td>\n",
       "    </tr>\n",
       "    <tr>\n",
       "      <th>2022-10-04</th>\n",
       "      <td>3</td>\n",
       "      <td>8904362500005</td>\n",
       "      <td>492</td>\n",
       "      <td>4</td>\n",
       "    </tr>\n",
       "    <tr>\n",
       "      <th>2022-10-05</th>\n",
       "      <td>4</td>\n",
       "      <td>8904362500005</td>\n",
       "      <td>568</td>\n",
       "      <td>4</td>\n",
       "    </tr>\n",
       "  </tbody>\n",
       "</table>\n",
       "</div>"
      ],
      "text/plain": [
       "            index       ean_code  quantity  ean_code_encoded\n",
       "order_date                                                  \n",
       "2022-10-01      0  8904362500005       435                 4\n",
       "2022-10-02      1  8904362500005       432                 4\n",
       "2022-10-03      2  8904362500005       458                 4\n",
       "2022-10-04      3  8904362500005       492                 4\n",
       "2022-10-05      4  8904362500005       568                 4"
      ]
     },
     "metadata": {},
     "output_type": "display_data"
    }
   ],
   "source": [
    "forecast_df.head()"
   ]
  }
 ],
 "metadata": {
  "language_info": {
   "name": "python"
  }
 },
 "nbformat": 4,
 "nbformat_minor": 5
}
